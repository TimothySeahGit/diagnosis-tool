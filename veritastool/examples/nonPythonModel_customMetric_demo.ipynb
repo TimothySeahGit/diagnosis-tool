{
 "cells": [
  {
   "attachments": {
    "veritas_logo.png": {
     "image/png": "[encoded data removed]"
    }
   },
   "cell_type": "markdown",
   "id": "aac9b714",
   "metadata": {},
   "source": [
    "![veritas_logo.png](attachment:veritas_logo.png)\n",
    "# Veritas Demo: Non-Python Classification Model with Custom Metrics\n",
    "\n",
    "<p>   \n",
    "    The <b>Veritas toolkit</b> is comprised of diagnosis tool and assessment tool.\n",
    "    This scenario is to build a NON Python credit scoring model and use daignosis tool to evaluate model & produce\n",
    "    the model artifact required by assessment tool to generate the fairness assessment report.\n",
    "</p>    \n",
    "<p>    \n",
    "    Credit scoring model is a binary classification model for prediction customer loan repayment. <br/>\n",
    "    Steps to perform: <br/>\n",
    "    1. Loading Data <br/>\n",
    "    2. Building non python model  <br/>  \n",
    "    &nbsp;&nbsp;&nbsp;&nbsp;2.1 Create model object using Model Wrapper <br/>\n",
    "    &nbsp;&nbsp;&nbsp;&nbsp;2.2 Train non python model (Optional) <br/><br/>\n",
    "    &nbsp;&nbsp;&nbsp;&nbsp;&nbsp;&nbsp;&nbsp;The model is trained using libsvm, a C++ library for training SVM models. <br/>\n",
    "    &nbsp;&nbsp;&nbsp;&nbsp;&nbsp;&nbsp;&nbsp;Homepage: https://www.csie.ntu.edu.tw/~cjlin/libsvm/index.html<br/>\n",
    "    &nbsp;&nbsp;&nbsp;&nbsp;&nbsp;&nbsp;&nbsp;It can used by executing the following commands at a terminal.<br/>\n",
    "    &nbsp;&nbsp;&nbsp;&nbsp;&nbsp;&nbsp;&nbsp;Train : svm-train -t 0 cs_train_smpl.data <br/>\n",
    "    &nbsp;&nbsp;&nbsp;&nbsp;&nbsp;&nbsp;&nbsp;Test : svm-predict cs_test.data cs_train_smpl.data.model cs_test.out<br/><br/>\n",
    "    &nbsp;&nbsp;&nbsp;&nbsp;2.3 Test non python model<br/>\n",
    "    3. Adding custom metrics <br/>\n",
    "    &nbsp;&nbsp;&nbsp;&nbsp;3.1 Create new custom metrics using NewMetric <br/>\n",
    "    4. Diagnose Model Fairness in <b>Diagnosis tool</b> <br/>\n",
    "    &nbsp;&nbsp;&nbsp;&nbsp;4.1 compute performance and fairness metrics <br/>\n",
    "    &nbsp;&nbsp;&nbsp;&nbsp;4.2 compute feature importance analysis <br/>\n",
    "</p>\n"
   ]
  },
  {
   "cell_type": "code",
   "execution_count": null,
   "id": "4d7055f9",
   "metadata": {},
   "outputs": [],
   "source": [
    "import numpy as np\n",
    "import pandas as pd\n",
    "import pickle\n",
    "import sys  \n",
    "from pathlib import Path\n",
    "# making veritas available in search path\n",
    "sys.path.append('../../')\n",
    "import os\n",
    "%load_ext autoreload\n",
    "%autoreload 2"
   ]
  },
  {
   "cell_type": "markdown",
   "id": "8722f8a2",
   "metadata": {},
   "source": [
    "# 1. Loading Data\n",
    "\n",
    "Dataset used is generated from : [Kaggle hosted UCI credit card dataset](https://www.kaggle.com/uciml/default-of-credit-card-clients-dataset)"
   ]
  },
  {
   "cell_type": "code",
   "execution_count": null,
   "id": "12669317",
   "metadata": {},
   "outputs": [],
   "source": [
    "pth = os.path.abspath('.')\n",
    "file = os.path.join(pth, 'data',\"credit_score_dict.pickle\")\n",
    "input_file = open(file, \"rb\")\n",
    "cs = pickle.load(input_file)\n",
    "\n",
    "#Reduce into two classes\n",
    "cs[\"X_train\"]['MARRIAGE'] = cs[\"X_train\"]['MARRIAGE'].replace([0, 3],1)\n",
    "cs[\"X_test\"]['MARRIAGE'] = cs[\"X_test\"]['MARRIAGE'].replace([0, 3],1)\n",
    "#Model Contariner Parameters\n",
    "y_true = np.array(cs[\"y_test\"])\n",
    "y_pred = np.array(cs[\"y_pred\"])\n",
    "y_train = np.array(cs[\"y_train\"])\n",
    "p_var = ['SEX', 'MARRIAGE']\n",
    "p_grp = {'SEX': [1], 'MARRIAGE':[1]}\n",
    "x_train = cs[\"X_train\"]\n",
    "x_test = cs[\"X_test\"]\n",
    "\n",
    "model_type = 'credit'\n",
    "y_prob = cs[\"y_prob\"]\n",
    "\n",
    "#sample feature_imp\n",
    "sample = os.path.join(pth, 'data',\"sample.csv\")\n",
    "feature_imp = pd.read_csv(sample)\n",
    "\n",
    "\n",
    "df_sampled = pd.read_csv(os.path.join(pth, 'data',\"libsvm_train.csv\")) \n",
    "x_train = df_sampled[df_sampled.columns[1:]]\n",
    "y_train = df_sampled[df_sampled.columns[0]]\n",
    "y_prob = None\n",
    "\n",
    "lib_path = 'C:/Users/nisith.singh/Desktop/MAS/libsvm-3.20/windows'\n",
    "model_name = 'libsvm_train.data.model'"
   ]
  },
  {
   "cell_type": "markdown",
   "id": "df023da3",
   "metadata": {},
   "source": [
    "# 2. Building non python model"
   ]
  },
  {
   "cell_type": "markdown",
   "id": "e37b709f",
   "metadata": {},
   "source": [
    "## 2.1 Create model object using Model Wrapper"
   ]
  },
  {
   "cell_type": "code",
   "execution_count": null,
   "id": "46964a20",
   "metadata": {},
   "outputs": [],
   "source": [
    "from veritastool.model.modelwrapper import ModelWrapper\n",
    "import subprocess\n",
    "import csv\n",
    "\n",
    "class libSVMwrapper(ModelWrapper):\n",
    "    \"\"\"\n",
    "    Abstract Base class to provide an interface that supports non-pythonic models.\n",
    "    Serves as a template for users to define the\n",
    "\n",
    "    \"\"\"\n",
    "\n",
    "    def __init__(self, lib_path, model_obj_name='libsvm_mdl', output_dir='.' ):        \n",
    "        self.path = lib_path\n",
    "        self.model_obj_name = model_obj_name\n",
    "        self.output_dir = output_dir\n",
    "          \n",
    "    def fit(self, X, y):                    \n",
    "        \n",
    "        y = pd.DataFrame(y)\n",
    "        trainDf = pd.concat([y,X],axis = 1)\n",
    "        \n",
    "        train_csv = os.path.join(self.output_dir,\"temp_train.csv\")\n",
    "        libsvm_train_csv = os.path.join(self.output_dir,\"temp_train.data\")\n",
    "        \n",
    "        trainDf.to_csv(train_csv,index=False)\n",
    "        self.convert_df_to_libsvm_format(train_csv)\n",
    "        \n",
    "        train_cmd = os.path.join(self.path,\"svm-train.exe -t 0 -b 1 \"+libsvm_train_csv)+\" {}\".format(self.model_obj_name) \n",
    "        process = subprocess.Popen(train_cmd.split(), stdout=subprocess.PIPE)\n",
    "        output, error = process.communicate()\n",
    "\n",
    "        #cleanup temp files\n",
    "        os.remove(train_csv)\n",
    "        os.remove(libsvm_train_csv)\n",
    "\n",
    "    def predict(self, x_test): \n",
    "       \n",
    "        testData = x_test \n",
    "        \n",
    "        test_csv = os.path.join(self.output_dir,\"temp_test.csv\")\n",
    "        libsvm_test_csv = os.path.join(self.output_dir,\"temp_test.data\")\n",
    "        output_file = os.path.join(self.output_dir,\"test.out\")\n",
    "        \n",
    "        testData.to_csv(test_csv, index=False)\n",
    "        self.convert_df_to_libsvm_format(test_csv)\n",
    "\n",
    "        test_cmd = os.path.join(self.path,\"svm-predict.exe -b 1 \")+\" {} {} {}\".format(libsvm_test_csv,self.model_obj_name,output_file)  \n",
    "\n",
    "        process = subprocess.Popen(test_cmd.split(), stdout=subprocess.PIPE)\n",
    "        output, error = process.communicate()\n",
    "        #print(output, error)\n",
    "        \n",
    "        try:\n",
    "            f = open(output_file)\n",
    "            lines = f.readlines()\n",
    "            test_preds = pd.DataFrame([ line.split() for line in lines])\n",
    "            test_preds.columns = test_preds.iloc[0]\n",
    "            test_preds = test_preds[1:].reset_index(drop=True)            \n",
    "            test_preds['prob'] = test_preds.apply(lambda x: x[0] if x[0]>x[1] else x[1], axis=1) \n",
    "\n",
    "            test_preds['prob'] = test_preds['prob'].astype(float)\n",
    "            self.y_prob = test_preds['prob'].values\n",
    "            test_preds['labels'] = test_preds['labels'].astype(int)\n",
    "            y_pred = test_preds['labels'].values\n",
    "            f.close()\n",
    "        except:\n",
    "            f.close()\n",
    "\n",
    "        #cleanup temp files\n",
    "        os.remove(test_csv)\n",
    "        os.remove(output_file)\n",
    "        #os.remove(\"temp_train.data.model\")\n",
    "        return y_pred\n",
    "    \n",
    "    def get_prob_est(self):\n",
    "        return self.y_prob\n",
    "\n",
    "    def construct_line(self, line):\n",
    "        new_line = []\n",
    "        for i, item in enumerate(line):\n",
    "            if (i == 0):\n",
    "                new_line.append(item)\n",
    "                continue\n",
    "            else:\n",
    "                if item == '' or float(item) == 0.0:\n",
    "                    continue\n",
    "                elif item=='NaN':\n",
    "                    item=\"0.0\"\n",
    "                new_item = \"%s:%s\" % (i + 1, item)\n",
    "                new_line.append(new_item)\n",
    "        new_line = \" \".join(new_line)\n",
    "        new_line += \"\\n\"\n",
    "        return new_line\n",
    "\n",
    "\n",
    "    def convert_df_to_libsvm_format(self, file):\n",
    "\n",
    "        input_file = file\n",
    "        output_filename = file.split('.')[0]\n",
    "\n",
    "        try:\n",
    "            output_file = output_filename+\".data\" \n",
    "        except IndexError:\n",
    "            output_file = input_file+\".out\"\n",
    "\n",
    "        try:\n",
    "            skip_headers = True \n",
    "        except IndexError:\n",
    "            skip_headers = 0\n",
    "\n",
    "        i = open(input_file, 'rt')\n",
    "        o = open(output_file, 'wb')\n",
    "\n",
    "        reader = csv.reader(i)\n",
    "\n",
    "        if skip_headers:\n",
    "            headers = reader.__next__()\n",
    "\n",
    "        for line in reader:\n",
    "            new_line = self.construct_line(line)\n",
    "            o.write(new_line.encode('utf-8'))"
   ]
  },
  {
   "cell_type": "code",
   "execution_count": null,
   "id": "271d29a0",
   "metadata": {},
   "outputs": [],
   "source": [
    "rej_libsvm = libSVMwrapper(lib_path,model_name,'data/tmp/')"
   ]
  },
  {
   "cell_type": "markdown",
   "id": "3a67fc32",
   "metadata": {},
   "source": [
    "\n",
    "<h5 align=\"center\">Table 1: libSVMwrapper parameters   </h5>\n",
    "\n",
    "| Var Name    | Description   |Compulsory   |\n",
    "| :---        |:----:  |          ---: |\n",
    "| lib_path      |path where libsvm library executables exist|Yes|\n",
    "| model_obj_name|full path to model file with model name |No|\n",
    "| output_dir|folder to save temp files and model |No|"
   ]
  },
  {
   "cell_type": "markdown",
   "id": "79528394",
   "metadata": {},
   "source": [
    "## 2.2 Train non python model\n",
    "### (Optional. User can skip step to assess existing model )"
   ]
  },
  {
   "cell_type": "code",
   "execution_count": null,
   "id": "6b1a0b4e",
   "metadata": {},
   "outputs": [],
   "source": [
    "#rej_libsvm.fit(x_train,y_train)"
   ]
  },
  {
   "cell_type": "markdown",
   "id": "16553d22",
   "metadata": {},
   "source": [
    "## 2.3 Test non python model"
   ]
  },
  {
   "cell_type": "code",
   "execution_count": null,
   "id": "a4dd64f1",
   "metadata": {},
   "outputs": [],
   "source": [
    "# Get the label predictions and label prediction probability estimates\n",
    "y_pred = rej_libsvm.predict(x_test) \n",
    "y_prob = rej_libsvm.get_prob_est()"
   ]
  },
  {
   "cell_type": "markdown",
   "id": "a236680e",
   "metadata": {},
   "source": [
    "# 3. Adding custom metrics"
   ]
  },
  {
   "cell_type": "markdown",
   "id": "da3f0a12",
   "metadata": {},
   "source": [
    "## 3.1 Create new custom metrics using NewMetric"
   ]
  },
  {
   "cell_type": "code",
   "execution_count": null,
   "id": "bcdda10c",
   "metadata": {},
   "outputs": [],
   "source": [
    "from veritastool.metrics.newmetric import NewMetric\n",
    "from sklearn.metrics import average_precision_score\n",
    "\n",
    "class AP(NewMetric):\n",
    "    metric_type = \"perf\"\n",
    "    metric_group = \"classification\"\n",
    "    metric_name = \"ap\"\n",
    "    metric_definition = \"Average Precision Score\"\n",
    "    metric_parity_ratio = \"parity\"\n",
    "    enable_flag = True\n",
    "    \n",
    "    def compute(obj, **kwargs):\n",
    "        y_true = obj.y_true[0]\n",
    "        y_prob = obj.y_prob[0]\n",
    "        \n",
    "        if y_prob is None:\n",
    "            return None\n",
    "        \n",
    "        if 'y_pred_new' in kwargs:\n",
    "            y_prob=kwargs['y_pred_new'][0]\n",
    "        \n",
    "        if obj.sample_weight[0] is None :\n",
    "            ap = average_precision_score(y_true=y_true, y_score=y_prob)\n",
    "        else: \n",
    "            sample_weight = obj.sample_weight[0]\n",
    "            ap = average_precision_score(y_true=y_true, y_score=y_prob, sample_weight=obj.sample_weight[0])\n",
    "        \n",
    "        return ap\n",
    "\n",
    "class AP_Parity(NewMetric):\n",
    "    metric_type = \"fair\"\n",
    "    metric_group = \"classification\"\n",
    "    metric_name = \"ap_parity\"\n",
    "    metric_definition = \"Average Precision Score Parity\"\n",
    "    metric_parity_ratio = \"parity\"\n",
    "    enable_flag = True\n",
    "\n",
    "    def compute(obj, **kwargs):\n",
    "        mask = obj.feature_mask[obj.curr_p_var]\n",
    "        y_true = obj.y_true[0]\n",
    "        y_prob = obj.y_prob[0]\n",
    "        \n",
    "        if y_prob is None:\n",
    "            return (None, None)\n",
    "            \n",
    "        if 'y_pred_new' in kwargs:\n",
    "            y_prob=kwargs['y_pred_new'][0]\n",
    "\n",
    "        if obj.sample_weight[0] is not None: \n",
    "            sample_weight_p = np.array(obj.sample_weight[0])[mask]\n",
    "            sample_weight_u = np.array(obj.sample_weight[0])[~mask]\n",
    "\n",
    "        else:\n",
    "            sample_weight_p = None\n",
    "            sample_weight_u = None\n",
    "\n",
    "        ap_parity_p = average_precision_score(y_true=np.array(y_true)[mask], y_score=np.array(y_prob)[mask], sample_weight=sample_weight_p)\n",
    "        ap_parity_u = average_precision_score(y_true=np.array(y_true)[~mask], y_score=np.array(y_prob)[~mask], sample_weight=sample_weight_u)\n",
    "            \n",
    "        return (ap_parity_p - ap_parity_u, ap_parity_p)"
   ]
  },
  {
   "cell_type": "markdown",
   "id": "9913c9c2",
   "metadata": {},
   "source": [
    "# 4. Diagnose Model Fairness"
   ]
  },
  {
   "cell_type": "markdown",
   "id": "821173d2",
   "metadata": {},
   "source": [
    "## Initializing Veritas Diganosis Library"
   ]
  },
  {
   "cell_type": "code",
   "execution_count": null,
   "id": "a0971bc1",
   "metadata": {},
   "outputs": [],
   "source": [
    "from veritastool.model.model_container import ModelContainer\n",
    "from veritastool.fairness.credit_scoring import CreditScoring"
   ]
  },
  {
   "cell_type": "code",
   "execution_count": null,
   "id": "4fa1775f",
   "metadata": {},
   "outputs": [],
   "source": [
    "#Create Model Container\n",
    "container = ModelContainer(y_true,  p_var, p_grp,model_type, model_name,  y_pred, \\\n",
    "                           y_prob, y_train, feature_imp = feature_imp, x_train=x_train, x_test=x_test, \\\n",
    "                           model_object=rej_libsvm )"
   ]
  },
  {
   "cell_type": "markdown",
   "id": "4fafb7e9",
   "metadata": {},
   "source": [
    "<h5 align=\"center\">Table 2: Model Container parameters   </h5>\n",
    "\n",
    "| Var Name    | Category       |Sub-category   | Description   |  Value        |  Compulsory   |\n",
    "| :---        |    :----:      |   :----:      |          ---: |          ---: |        ---: |\n",
    "| y_true      | data           | testing       | test set labels| array([0, 1, 1, ..., 1])   |Yes|\n",
    "| y_pred      | data           | testing       | test set predicted labels | array([0, 1, 1, ..., 1])   |Yes|\n",
    "| y_prob      | data           | testing       | test set predicted probabilities | array([0.56, 0.33, 0.11, ..., 0.98])|No|\n",
    "| x_test      | data           | testing       | test set features | -      |No|\n",
    "| y_train     | data           | training      | train set labels      | array([0, 1, 1, ..., 1])   |No|\n",
    "| x_train     | data           | training      | train set features |-      |No|\n",
    "| p_var       | protected vars |    -          | list of protected vars| [ 'SEX', 'MARRIAGE' ]      |Yes|\n",
    "| p_grp       | protected vars |    -          | list of priveleged groups| { 'SEX': [ 1 ] , 'MARRIAGE': [ 1 ] }   |Yes|\n",
    "| model_obj   | model          |    -          | model to assess| -      |No|\n",
    "| model_type  | model          |    -          | type of model | 'credit'    |Yes|\n",
    "| model_name  | model          |    -          | name of model | 'credit scoring'   |No|\n",
    "| feature_imp | model          |    -          | list of feature imps for model| -   |No|\n"
   ]
  },
  {
   "cell_type": "code",
   "execution_count": null,
   "id": "89736d8b",
   "metadata": {},
   "outputs": [],
   "source": [
    "#Create Use Case Object\n",
    "cre_sco_obj= CreditScoring(model_params = [container], fair_threshold =80, fair_concern = \"eligible\", \\\n",
    "                           fair_priority = \"benefit\", fair_impact = \"significant\", perf_metric_name = \"accuracy\", \\\n",
    "                           fair_metric_name = \"equal_opportunity\")"
   ]
  },
  {
   "cell_type": "markdown",
   "id": "1badc78a",
   "metadata": {},
   "source": [
    "<h5 align=\"center\">Table 3: Credit Scoring parameters   </h5>\n",
    "\n",
    "| Var Name    | Category       | Description   |  Value        |Compulsory|\n",
    "| :---        |    :----:      |          ---: |          ---: |---:|\n",
    "| model_params| model containers | list of model containers | -  |Yes|\n",
    "| fair_metric_name| metric name |primary fairness metric | \"auto\" or any of supported ones <br/> like \"equal_opportunity\" |No|\n",
    "| perf_metric_name      | metric name |primary performance metric |\"balanced_acc\"   |No|\n",
    "| fair_concern | fair_metric selection | most concerned cohort |\"eligible\" or \"inclusive\" or \"both\" |No|\n",
    "| fair_priority| fair_metric selection|top priority to be for fairness assessment | \"benefit\" or \"harm\" |No|\n",
    "| fair_impact  | fair_metric selection |impact magnitude and type | \"normal\" or \"significant\" or \"selective\"   |No|\n",
    "| fair_threshold | fairness metric thresolding |threshold used for assessment|actual value [0,1] or p% rule (1,100]|Yes|\n"
   ]
  },
  {
   "cell_type": "markdown",
   "id": "ce206d62",
   "metadata": {},
   "source": [
    "## Starting Fairness diagnosis"
   ]
  },
  {
   "cell_type": "code",
   "execution_count": null,
   "id": "de9b60ba",
   "metadata": {
    "scrolled": false
   },
   "outputs": [],
   "source": [
    "cre_sco_obj.evaluate()"
   ]
  },
  {
   "cell_type": "code",
   "execution_count": null,
   "id": "84021e79",
   "metadata": {
    "scrolled": false
   },
   "outputs": [],
   "source": [
    "#This step could take time since it's dependent on the non python library being used.\n",
    "cre_sco_obj.feature_importance()"
   ]
  },
  {
   "cell_type": "code",
   "execution_count": null,
   "id": "059d6354",
   "metadata": {},
   "outputs": [],
   "source": []
  }
 ],
 "metadata": {
  "kernelspec": {
   "display_name": "Python 3",
   "language": "python",
   "name": "python3"
  },
  "language_info": {
   "codemirror_mode": {
    "name": "ipython",
    "version": 3
   },
   "file_extension": ".py",
   "mimetype": "text/x-python",
   "name": "python",
   "nbconvert_exporter": "python",
   "pygments_lexer": "ipython3",
   "version": "3.8.10"
  },
  "toc": {
   "base_numbering": 1,
   "nav_menu": {},
   "number_sections": true,
   "sideBar": true,
   "skip_h1_title": false,
   "title_cell": "Table of Contents",
   "title_sidebar": "Contents",
   "toc_cell": false,
   "toc_position": {},
   "toc_section_display": true,
   "toc_window_display": false
  }
 },
 "nbformat": 4,
 "nbformat_minor": 5
}
